{
  "nbformat": 4,
  "nbformat_minor": 0,
  "metadata": {
    "colab": {
      "name": "Assignment4_DL.ipynb",
      "provenance": []
    },
    "kernelspec": {
      "name": "python3",
      "display_name": "Python 3"
    }
  },
  "cells": [
    {
      "cell_type": "markdown",
      "metadata": {
        "id": "uOP_-gUrwIBm",
        "colab_type": "text"
      },
      "source": [
        "## Deep Learning- CNN using DenseNet"
      ]
    },
    {
      "cell_type": "code",
      "metadata": {
        "id": "UoXqYkO3ofE9",
        "colab_type": "code",
        "colab": {}
      },
      "source": [
        "%tensorflow_version 2.x  \n",
        "\n",
        "import tensorflow as tf\n",
        "import numpy as np\n",
        "import matplotlib.pyplot as plt\n",
        "import keras\n",
        "from keras.models import Model\n",
        "from time import time\n",
        "import numpy as np\n",
        "from keras.layers import Conv2D, MaxPooling2D, Dense, Input, Activation, Dropout, GlobalAveragePooling2D, \\\n",
        "    BatchNormalization, concatenate, AveragePooling2D\n",
        "import keras\n",
        "#from keras.layers import Input, Dense, Conv2D, Conv3D, DepthwiseConv2D, SeparableConv2D, Conv3DTranspose\n",
        "from keras.layers import Flatten, MaxPool2D, AvgPool2D, GlobalAvgPool2D, UpSampling2D, BatchNormalization\n",
        "from keras.layers import Concatenate, Add, Dropout, ReLU, Lambda, Activation, LeakyReLU, PReLU\n",
        "from time import time\n",
        "import numpy as np"
      ],
      "execution_count": 0,
      "outputs": []
    },
    {
      "cell_type": "code",
      "metadata": {
        "id": "FG9iVV3RooYY",
        "colab_type": "code",
        "outputId": "3abdcf1c-92be-47f7-8f70-234fbcfad175",
        "colab": {
          "base_uri": "https://localhost:8080/",
          "height": 283
        }
      },
      "source": [
        "cifar = tf.keras.datasets.cifar10\n",
        "(train_images, train_labels), (test_images, test_labels) = cifar.load_data()\n",
        "\n",
        "print(train_labels[1])\n",
        "plt.imshow(train_images[1], cmap=\"Greys_r\")\n",
        "\n",
        "data = train_images.reshape([-1, 32, 32, 3]).astype(np.float32) / 255\n",
        "lbl = train_labels.astype(np.int32)\n",
        "\n",
        "\n",
        "test_data = test_images.reshape([-1, 32, 32, 3]).astype(np.float32) / 255\n",
        "test_lbl = test_labels.astype(np.int32)"
      ],
      "execution_count": 0,
      "outputs": [
        {
          "output_type": "stream",
          "text": [
            "[9]\n"
          ],
          "name": "stdout"
        },
        {
          "output_type": "display_data",
          "data": {
            "image/png": "[encoded data removed]",
            "text/plain": [
              "<Figure size 432x288 with 1 Axes>"
            ]
          },
          "metadata": {
            "tags": [],
            "needs_background": "light"
          }
        }
      ]
    },
    {
      "cell_type": "markdown",
      "metadata": {
        "id": "rKRFqjAq1ytf",
        "colab_type": "text"
      },
      "source": [
        "# Input Layer"
      ]
    },
    {
      "cell_type": "code",
      "metadata": {
        "id": "GEDQbG_AouaX",
        "colab_type": "code",
        "colab": {}
      },
      "source": [
        "inp = tf.keras.layers.Input((32, 32, 3))\n",
        "x = tf.keras.layers.Conv2D(64, 7, strides=2, padding='same')(inp)\n",
        "x = tf.keras.layers.MaxPool2D(3, strides=2, padding='same')(x)"
      ],
      "execution_count": 0,
      "outputs": []
    },
    {
      "cell_type": "markdown",
      "metadata": {
        "id": "edTV2MoD15O_",
        "colab_type": "text"
      },
      "source": [
        "# 1st Dense Block"
      ]
    },
    {
      "cell_type": "markdown",
      "metadata": {
        "id": "Sq1VSUUV2D1c",
        "colab_type": "text"
      },
      "source": [
        "## For Conv 1x1"
      ]
    },
    {
      "cell_type": "code",
      "metadata": {
        "id": "CnPvNyRro1e7",
        "colab_type": "code",
        "colab": {}
      },
      "source": [
        "f=32\n",
        "x1 = tf.keras.layers.BatchNormalization()(x)\n",
        "x1 =tf.keras.layers.ReLU()(x)\n",
        "x1 = tf.keras.layers.Conv2D(f*4,1,strides=1, padding='same')(x)"
      ],
      "execution_count": 0,
      "outputs": []
    },
    {
      "cell_type": "markdown",
      "metadata": {
        "id": "BuuqEe0T2N9Y",
        "colab_type": "text"
      },
      "source": [
        "## For Conv 3x3"
      ]
    },
    {
      "cell_type": "code",
      "metadata": {
        "id": "Af06FKXgpySc",
        "colab_type": "code",
        "colab": {}
      },
      "source": [
        "f=32\n",
        "k=3\n",
        "x1 = tf.keras.layers.BatchNormalization()(x1)\n",
        "x1 =tf.keras.layers.ReLU()(x1)\n",
        "x1= tf.keras.layers.Conv2D(f*4,k,strides=1, padding='same')(x1) #Filter times 4 as per the paper"
      ],
      "execution_count": 0,
      "outputs": []
    },
    {
      "cell_type": "markdown",
      "metadata": {
        "id": "sMA-Jz152evs",
        "colab_type": "text"
      },
      "source": [
        "## Concatinating Input Layer & Conv. Layer"
      ]
    },
    {
      "cell_type": "code",
      "metadata": {
        "id": "qUULNMGRtN2Y",
        "colab_type": "code",
        "colab": {}
      },
      "source": [
        "tensor1 = tf.keras.layers.concatenate([x, x1])  #x=input layer, x1=conv. layer"
      ],
      "execution_count": 0,
      "outputs": []
    },
    {
      "cell_type": "markdown",
      "metadata": {
        "id": "SxUEXuZ326I_",
        "colab_type": "text"
      },
      "source": [
        "# Transition Layer"
      ]
    },
    {
      "cell_type": "code",
      "metadata": {
        "id": "g6iiy1YpuQAo",
        "colab_type": "code",
        "colab": {}
      },
      "source": [
        "p='same'\n",
        "s=1\n",
        "trans1 = tf.keras.layers.BatchNormalization()(tensor1)\n",
        "trans1 =tf.keras.layers.ReLU()(trans1)\n",
        "trans1 = tf.keras.layers.Conv2D(16, 1, strides=s, padding=p)(trans1) #Filter size 16 as we have to half the filter (32 from 16)\n",
        "trans1 = tf.keras.layers.AvgPool2D(2, strides=2, padding=p)(trans1)"
      ],
      "execution_count": 0,
      "outputs": []
    },
    {
      "cell_type": "markdown",
      "metadata": {
        "id": "KolpuylX3HVz",
        "colab_type": "text"
      },
      "source": [
        "# 2nd Dense Block"
      ]
    },
    {
      "cell_type": "code",
      "metadata": {
        "id": "Tuzqlc8QvbqC",
        "colab_type": "code",
        "colab": {}
      },
      "source": [
        "f=32\n",
        "x2 = tf.keras.layers.BatchNormalization()(trans1)\n",
        "x2 =tf.keras.layers.ReLU()(x2)\n",
        "x2 = tf.keras.layers.Conv2D(f*4,1,strides=1, padding='same')(x2)\n",
        "\n",
        "f=32\n",
        "k=3\n",
        "x2 = tf.keras.layers.BatchNormalization()(x2)\n",
        "x2 =tf.keras.layers.ReLU()(x2)\n",
        "x2= tf.keras.layers.Conv2D(f*4,k,strides=1, padding='same')(x2)\n",
        "\n",
        "tensor2 = tf.keras.layers.concatenate([trans1, x2])\n",
        "\n"
      ],
      "execution_count": 0,
      "outputs": []
    },
    {
      "cell_type": "code",
      "metadata": {
        "id": "_5WpjwL_x8cB",
        "colab_type": "code",
        "colab": {}
      },
      "source": [
        "global_average_pool = tf.keras.layers.GlobalAvgPool2D()(tensor2)"
      ],
      "execution_count": 0,
      "outputs": []
    },
    {
      "cell_type": "code",
      "metadata": {
        "id": "Nl1pxhioyVTc",
        "colab_type": "code",
        "colab": {}
      },
      "source": [
        "flat = tf.keras.layers.Flatten()(global_average_pool)\n",
        "out = tf.keras.layers.Dense(10)(flat)\n",
        "model = tf.keras.Model(inp, out)"
      ],
      "execution_count": 0,
      "outputs": []
    },
    {
      "cell_type": "code",
      "metadata": {
        "id": "LKsaYR1Iyy4B",
        "colab_type": "code",
        "outputId": "8042e66a-4d51-466a-9e76-8704df8730cb",
        "colab": {
          "base_uri": "https://localhost:8080/",
          "height": 935
        }
      },
      "source": [
        "model.summary()"
      ],
      "execution_count": 0,
      "outputs": [
        {
          "output_type": "stream",
          "text": [
            "Model: \"model_14\"\n",
            "__________________________________________________________________________________________________\n",
            "Layer (type)                    Output Shape         Param #     Connected to                     \n",
            "==================================================================================================\n",
            "input_12 (InputLayer)           [(None, 32, 32, 3)]  0                                            \n",
            "__________________________________________________________________________________________________\n",
            "conv2d_115 (Conv2D)             (None, 16, 16, 64)   9472        input_12[0][0]                   \n",
            "__________________________________________________________________________________________________\n",
            "max_pooling2d_9 (MaxPooling2D)  (None, 8, 8, 64)     0           conv2d_115[0][0]                 \n",
            "__________________________________________________________________________________________________\n",
            "conv2d_116 (Conv2D)             (None, 8, 8, 128)    8320        max_pooling2d_9[0][0]            \n",
            "__________________________________________________________________________________________________\n",
            "batch_normalization_110 (BatchN (None, 8, 8, 128)    512         conv2d_116[0][0]                 \n",
            "__________________________________________________________________________________________________\n",
            "re_lu_110 (ReLU)                (None, 8, 8, 128)    0           batch_normalization_110[0][0]    \n",
            "__________________________________________________________________________________________________\n",
            "conv2d_117 (Conv2D)             (None, 8, 8, 128)    147584      re_lu_110[0][0]                  \n",
            "__________________________________________________________________________________________________\n",
            "concatenate_40 (Concatenate)    (None, 8, 8, 192)    0           max_pooling2d_9[0][0]            \n",
            "                                                                 conv2d_117[0][0]                 \n",
            "__________________________________________________________________________________________________\n",
            "batch_normalization_111 (BatchN (None, 8, 8, 192)    768         concatenate_40[0][0]             \n",
            "__________________________________________________________________________________________________\n",
            "re_lu_111 (ReLU)                (None, 8, 8, 192)    0           batch_normalization_111[0][0]    \n",
            "__________________________________________________________________________________________________\n",
            "conv2d_118 (Conv2D)             (None, 8, 8, 16)     3088        re_lu_111[0][0]                  \n",
            "__________________________________________________________________________________________________\n",
            "average_pooling2d_19 (AveragePo (None, 4, 4, 16)     0           conv2d_118[0][0]                 \n",
            "__________________________________________________________________________________________________\n",
            "batch_normalization_112 (BatchN (None, 4, 4, 16)     64          average_pooling2d_19[0][0]       \n",
            "__________________________________________________________________________________________________\n",
            "re_lu_112 (ReLU)                (None, 4, 4, 16)     0           batch_normalization_112[0][0]    \n",
            "__________________________________________________________________________________________________\n",
            "conv2d_119 (Conv2D)             (None, 4, 4, 128)    2176        re_lu_112[0][0]                  \n",
            "__________________________________________________________________________________________________\n",
            "batch_normalization_113 (BatchN (None, 4, 4, 128)    512         conv2d_119[0][0]                 \n",
            "__________________________________________________________________________________________________\n",
            "re_lu_113 (ReLU)                (None, 4, 4, 128)    0           batch_normalization_113[0][0]    \n",
            "__________________________________________________________________________________________________\n",
            "conv2d_120 (Conv2D)             (None, 4, 4, 128)    147584      re_lu_113[0][0]                  \n",
            "__________________________________________________________________________________________________\n",
            "concatenate_41 (Concatenate)    (None, 4, 4, 144)    0           average_pooling2d_19[0][0]       \n",
            "                                                                 conv2d_120[0][0]                 \n",
            "__________________________________________________________________________________________________\n",
            "global_average_pooling2d_8 (Glo (None, 144)          0           concatenate_41[0][0]             \n",
            "__________________________________________________________________________________________________\n",
            "flatten_9 (Flatten)             (None, 144)          0           global_average_pooling2d_8[0][0] \n",
            "__________________________________________________________________________________________________\n",
            "dense_9 (Dense)                 (None, 10)           1450        flatten_9[0][0]                  \n",
            "==================================================================================================\n",
            "Total params: 321,530\n",
            "Trainable params: 320,602\n",
            "Non-trainable params: 928\n",
            "__________________________________________________________________________________________________\n"
          ],
          "name": "stdout"
        }
      ]
    },
    {
      "cell_type": "code",
      "metadata": {
        "id": "cqfAKqu7y_CD",
        "colab_type": "code",
        "outputId": "9d82c3a1-380b-4de5-ff8f-8a8df9cecd03",
        "colab": {
          "base_uri": "https://localhost:8080/",
          "height": 102
        }
      },
      "source": [
        "opt = tf.optimizers.Adam()\n",
        "\n",
        "loss_fn = tf.losses.SparseCategoricalCrossentropy(from_logits=True)\n",
        "\n",
        "train_acc_metric = tf.metrics.SparseCategoricalAccuracy()\n",
        "\n",
        "model.compile(optimizer=opt, loss=loss_fn, metrics=[train_acc_metric])\n",
        "\n",
        "model.fit(train_images, train_labels, epochs=2)"
      ],
      "execution_count": 0,
      "outputs": [
        {
          "output_type": "stream",
          "text": [
            "Epoch 1/2\n",
            "1563/1563 [==============================] - 152s 97ms/step - loss: 1.4388 - sparse_categorical_accuracy: 0.4787\n",
            "Epoch 2/2\n",
            "1563/1563 [==============================] - 157s 100ms/step - loss: 1.1081 - sparse_categorical_accuracy: 0.6020\n"
          ],
          "name": "stdout"
        },
        {
          "output_type": "execute_result",
          "data": {
            "text/plain": [
              "<tensorflow.python.keras.callbacks.History at 0x7fb5842cec88>"
            ]
          },
          "metadata": {
            "tags": []
          },
          "execution_count": 140
        }
      ]
    },
    {
      "cell_type": "code",
      "metadata": {
        "id": "KNTE6iZ8zSwI",
        "colab_type": "code",
        "outputId": "76dca2cd-9c67-4e60-8a4f-bcaa874cb61d",
        "colab": {
          "base_uri": "https://localhost:8080/",
          "height": 51
        }
      },
      "source": [
        "model.evaluate(test_images, test_labels)"
      ],
      "execution_count": 0,
      "outputs": [
        {
          "output_type": "stream",
          "text": [
            "313/313 [==============================] - 6s 19ms/step - loss: 1.9302 - sparse_categorical_accuracy: 0.4733\n"
          ],
          "name": "stdout"
        },
        {
          "output_type": "execute_result",
          "data": {
            "text/plain": [
              "[1.9302091598510742, 0.4733000099658966]"
            ]
          },
          "metadata": {
            "tags": []
          },
          "execution_count": 141
        }
      ]
    },
    {
      "cell_type": "code",
      "metadata": {
        "id": "prMH9pzb0XTL",
        "colab_type": "code",
        "colab": {}
      },
      "source": [
        ""
      ],
      "execution_count": 0,
      "outputs": []
    }
  ]
}